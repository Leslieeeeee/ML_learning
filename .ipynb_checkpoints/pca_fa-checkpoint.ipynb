{
 "cells": [
  {
   "cell_type": "code",
   "execution_count": 66,
   "metadata": {
    "collapsed": false
   },
   "outputs": [],
   "source": [
    "# coding: utf-8\n",
    "\n",
    "\n",
    "import numpy as np\n",
    "\n",
    "def zero_mean(datemat): \n",
    "    average = np.mean(datemat, axis = 0)\n",
    "    standard_date = datemat - average\n",
    "    return standard_date, average\n",
    "    \n",
    "    \"\"\"\n",
    "    #计算方差贡献率\n",
    "    def cal_drate(self):\n",
    "        rate_all = []\n",
    "        for i in eigVal:\n",
    "            rate = i / eigVal[0:n].sum()\n",
    "            rate_all.append(rate)\n",
    "        return rate_all\n",
    "    \"\"\"\n",
    "    \"\"\"\n",
    "    #因子旋转\n",
    "    def rotate_date(self):\n",
    "        v_date = np.array[]\n",
    "        ro_date = np.corrcoef(new_date)\n",
    "        z_ date = new_date * ro_date\n",
    "        #正交旋转\n",
    "        rotate_date = v_date * ro_date\n",
    "        for i <= n:\n",
    "            for i <= n:\n",
    "                for i <= n:\n",
    "                    ai_1 = ai_1^2 + ai_1\n",
    "                    ai_2 = ai_2^2 + ai_1\n",
    "                u = (ai_1/h)^2 + (ai_2/h)^2\n",
    "            a = a+ u\n",
    "\n",
    "             for i < n:\n",
    "                for i < n:\n",
    "                    ai_1 = ai_1^2 + ai_1\n",
    "                    ai_2 = ai_2^2 + ai_1\n",
    "                v = 2*ai_1*ai_2/h\n",
    "            b = b + (u^2 - v^2)\n",
    "                d_ = u*v\n",
    "            \n",
    "            d_ = u*v + d\n",
    "            d = 2 * d_       \n",
    "        \n",
    "        fi = atan((d - 2*a*b/n))/(4*(c - (a^2 - b*2))/n)\n",
    "\n",
    "    \"\"\"\n",
    "        \n",
    "        \n",
    "    #求出降维后的原始数据\n",
    "def cal(datemat, n=0.99):\n",
    "    standard_date, average = zero_mean(datemat)\n",
    "    \n",
    "    #求出协方差矩阵\n",
    "    cov_date = np.cov(standard_date, rowvar = 0)\n",
    "        \n",
    "    #求出特征值和特征向量\n",
    "    eigVals,eigVects=np.linalg.eig(np.mat(cov_date))       \n",
    "    eigValIndice = np.argsort(eigVals)            #对特征值从小到大排序  \n",
    "    n_eigValIndice = eigValIndice[-1: -(n+1): -1]   #最大的n个特征值的下标  \n",
    "    n_eigVect = eigVects[:, n_eigValIndice]        #最大的n个特征值对应的特征向量  \n",
    "    lowDataMat = standard_date * n_eigVect               #低维特征空间的数据  \n",
    "    reconMat = (lowDataMat * n_eigVect.T) + average#重构数据  \n",
    "    return lowDataMat, reconMat\n",
    "\n",
    "    #求n(即公共因子数)\n",
    "def argsort(datemat, percentage):\n",
    "    \n",
    "    standard_date, average = zero_mean(datemat)\n",
    "    cov_date = np.cov(standard_date, rowvar = 0)\n",
    "    eigVals,eigVects=np.linalg.eig(np.mat(cov_date))\n",
    "    sortarray = np.sort(eigVals)\n",
    "    sortarray = sortarray[-1::-1]\n",
    "    sumarray = sum(sortarray)\n",
    "    tmpsum=0  \n",
    "    n=0  \n",
    "    for i in sortarray:\n",
    "        tmpsum = tmpsum + i\n",
    "        n = n + 1\n",
    "        if tmpsum >= sumarray * percentage:\n",
    "            return n"
   ]
  },
  {
   "cell_type": "code",
   "execution_count": 70,
   "metadata": {
    "collapsed": false
   },
   "outputs": [
    {
     "name": "stdout",
     "output_type": "stream",
     "text": [
      "(matrix([], shape=(2, 0), dtype=float64), matrix([[-1.5, -0.5,  0. ,  1.5,  0.5],\n",
      "        [-1.5, -0.5,  0. ,  1.5,  0.5]]))\n",
      "1\n"
     ]
    },
    {
     "name": "stderr",
     "output_type": "stream",
     "text": [
      "/Users/leslieeeeee/anaconda/lib/python3.6/site-packages/ipykernel/__main__.py:62: VisibleDeprecationWarning: using a non-integer number instead of an integer will result in an error in the future\n"
     ]
    }
   ],
   "source": [
    "data = [[-1, -1, 0, 2, 0],[-2, 0, 0, 1, 1]]\n",
    "datemat = np.array(data)\n",
    "\n",
    "s = zero_mean(datemat)\n",
    "m = cal(datemat = datemat, n = 0.99)\n",
    "n = argsort(datemat, percentage = 0.99)\n",
    "print(m)\n",
    "print(n)\n"
   ]
  },
  {
   "cell_type": "code",
   "execution_count": null,
   "metadata": {
    "collapsed": false
   },
   "outputs": [],
   "source": [
    "\n",
    "    "
   ]
  },
  {
   "cell_type": "code",
   "execution_count": null,
   "metadata": {
    "collapsed": true
   },
   "outputs": [],
   "source": []
  },
  {
   "cell_type": "code",
   "execution_count": null,
   "metadata": {
    "collapsed": true
   },
   "outputs": [],
   "source": []
  }
 ],
 "metadata": {
  "kernelspec": {
   "display_name": "Python 3",
   "language": "python",
   "name": "python3"
  },
  "language_info": {
   "codemirror_mode": {
    "name": "ipython",
    "version": 3
   },
   "file_extension": ".py",
   "mimetype": "text/x-python",
   "name": "python",
   "nbconvert_exporter": "python",
   "pygments_lexer": "ipython3",
   "version": "3.6.0"
  }
 },
 "nbformat": 4,
 "nbformat_minor": 2
}
